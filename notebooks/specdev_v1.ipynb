{
 "cells": [
  {
   "cell_type": "code",
   "execution_count": 1,
   "id": "0dcec0bc",
   "metadata": {},
   "outputs": [
    {
     "name": "stdout",
     "output_type": "stream",
     "text": [
      "INFO 08-05 20:33:29 [__init__.py:241] Automatically detected platform cuda.\n"
     ]
    }
   ],
   "source": [
    "from vllm import LLM, SamplingParams"
   ]
  },
  {
   "cell_type": "code",
   "execution_count": 2,
   "id": "54dc74ee",
   "metadata": {},
   "outputs": [
    {
     "name": "stdout",
     "output_type": "stream",
     "text": [
      "INFO 08-05 20:33:35 [utils.py:326] non-default args: {'model': 'meta-llama/Llama-3.1-8B-Instruct', 'disable_log_stats': True, 'speculative_config': {'method': 'ngram', 'num_speculative_tokens': 6, 'prompt_lookup_max': 4}}\n",
      "INFO 08-05 20:33:46 [config.py:726] Resolved architecture: LlamaForCausalLM\n",
      "INFO 08-05 20:33:46 [config.py:1765] Using max model len 131072\n",
      "INFO 08-05 20:33:47 [config.py:2594] Chunked prefill is enabled with max_num_batched_tokens=16384.\n",
      "\u001b[1;36m(EngineCore_0 pid=1286114)\u001b[0;0m INFO 08-05 20:33:48 [core.py:619] Waiting for init message from front-end.\n",
      "\u001b[1;36m(EngineCore_0 pid=1286114)\u001b[0;0m INFO 08-05 20:33:48 [core.py:71] Initializing a V1 LLM engine (v0.10.1.dev375+gae87ddd04) with config: model='meta-llama/Llama-3.1-8B-Instruct', speculative_config=SpeculativeConfig(method='ngram', model=None, num_spec_tokens=6), tokenizer='meta-llama/Llama-3.1-8B-Instruct', skip_tokenizer_init=False, tokenizer_mode=auto, revision=None, override_neuron_config={}, tokenizer_revision=None, trust_remote_code=False, dtype=torch.bfloat16, max_seq_len=131072, download_dir=None, load_format=auto, tensor_parallel_size=1, pipeline_parallel_size=1, disable_custom_all_reduce=False, quantization=None, enforce_eager=False, kv_cache_dtype=auto, device_config=cuda, decoding_config=DecodingConfig(backend='auto', disable_fallback=False, disable_any_whitespace=False, disable_additional_properties=False, reasoning_backend=''), observability_config=ObservabilityConfig(show_hidden_metrics_for_version=None, otlp_traces_endpoint=None, collect_detailed_traces=None), seed=0, served_model_name=meta-llama/Llama-3.1-8B-Instruct, num_scheduler_steps=1, multi_step_stream_outputs=True, enable_prefix_caching=True, chunked_prefill_enabled=True, use_async_output_proc=False, pooler_config=None, compilation_config={\"level\":3,\"debug_dump_path\":\"\",\"cache_dir\":\"\",\"backend\":\"\",\"custom_ops\":[],\"splitting_ops\":[\"vllm.unified_attention\",\"vllm.unified_attention_with_output\",\"vllm.mamba_mixer2\"],\"use_inductor\":true,\"compile_sizes\":[],\"inductor_compile_config\":{\"enable_auto_functionalized_v2\":false},\"inductor_passes\":{},\"use_cudagraph\":true,\"cudagraph_num_of_warmups\":1,\"cudagraph_capture_sizes\":[512,504,496,488,480,472,464,456,448,440,432,424,416,408,400,392,384,376,368,360,352,344,336,328,320,312,304,296,288,280,272,264,256,248,240,232,224,216,208,200,192,184,176,168,160,152,144,136,128,120,112,104,96,88,80,72,64,56,48,40,32,24,16,8,4,2,1],\"cudagraph_copy_inputs\":false,\"full_cuda_graph\":false,\"pass_config\":{},\"max_capture_size\":512,\"local_cache_dir\":null}\n",
      "\u001b[1;36m(EngineCore_0 pid=1286114)\u001b[0;0m INFO 08-05 20:33:53 [parallel_state.py:1124] rank 0 in world size 1 is assigned as DP rank 0, PP rank 0, TP rank 0, EP rank 0\n",
      "\u001b[1;36m(EngineCore_0 pid=1286114)\u001b[0;0m WARNING 08-05 20:33:53 [topk_topp_sampler.py:60] FlashInfer is not available. Falling back to the PyTorch-native implementation of top-p & top-k sampling. For the best performance, please install FlashInfer.\n",
      "\u001b[1;36m(EngineCore_0 pid=1286114)\u001b[0;0m INFO 08-05 20:33:54 [gpu_model_runner.py:1908] Starting to load model meta-llama/Llama-3.1-8B-Instruct...\n",
      "\u001b[1;36m(EngineCore_0 pid=1286114)\u001b[0;0m INFO 08-05 20:33:54 [gpu_model_runner.py:1940] Loading model from scratch...\n",
      "\u001b[1;36m(EngineCore_0 pid=1286114)\u001b[0;0m INFO 08-05 20:33:54 [cuda.py:327] Using Flash Attention backend on V1 engine.\n",
      "\u001b[1;36m(EngineCore_0 pid=1286114)\u001b[0;0m INFO 08-05 20:33:55 [weight_utils.py:296] Using model weights format ['*.safetensors']\n"
     ]
    },
    {
     "data": {
      "application/vnd.jupyter.widget-view+json": {
       "model_id": "58a540181db24b29b9be631664623a2c",
       "version_major": 2,
       "version_minor": 0
      },
      "text/plain": [
       "Loading safetensors checkpoint shards:   0% Completed | 0/4 [00:00<?, ?it/s]\n"
      ]
     },
     "metadata": {},
     "output_type": "display_data"
    },
    {
     "name": "stdout",
     "output_type": "stream",
     "text": [
      "\u001b[1;36m(EngineCore_0 pid=1286114)\u001b[0;0m INFO 08-05 20:34:09 [default_loader.py:262] Loading weights took 14.27 seconds\n",
      "\u001b[1;36m(EngineCore_0 pid=1286114)\u001b[0;0m INFO 08-05 20:34:09 [gpu_model_runner.py:1950] Loading drafter model...\n",
      "\u001b[1;36m(EngineCore_0 pid=1286114)\u001b[0;0m INFO 08-05 20:34:10 [gpu_model_runner.py:1957] Model loading took 14.9889 GiB and 14.939160 seconds\n",
      "\u001b[1;36m(EngineCore_0 pid=1286114)\u001b[0;0m INFO 08-05 20:34:15 [backends.py:530] Using cache directory: /home/shanes/.cache/vllm/torch_compile_cache/b3a7d76e93/rank_0_0/backbone for vLLM's torch.compile\n",
      "\u001b[1;36m(EngineCore_0 pid=1286114)\u001b[0;0m INFO 08-05 20:34:15 [backends.py:541] Dynamo bytecode transform time: 5.27 s\n",
      "\u001b[1;36m(EngineCore_0 pid=1286114)\u001b[0;0m INFO 08-05 20:34:19 [backends.py:194] Cache the graph for dynamic shape for later use\n",
      "\u001b[1;36m(EngineCore_0 pid=1286114)\u001b[0;0m INFO 08-05 20:34:35 [backends.py:215] Compiling a graph for dynamic shape takes 19.03 s\n",
      "\u001b[1;36m(EngineCore_0 pid=1286114)\u001b[0;0m INFO 08-05 20:34:40 [monitor.py:34] torch.compile takes 24.30 s in total\n",
      "\u001b[1;36m(EngineCore_0 pid=1286114)\u001b[0;0m INFO 08-05 20:34:46 [gpu_worker.py:275] Available KV cache memory: 51.32 GiB\n",
      "\u001b[1;36m(EngineCore_0 pid=1286114)\u001b[0;0m INFO 08-05 20:34:47 [kv_cache_utils.py:829] GPU KV cache size: 420,400 tokens\n",
      "\u001b[1;36m(EngineCore_0 pid=1286114)\u001b[0;0m INFO 08-05 20:34:47 [kv_cache_utils.py:833] Maximum concurrency for 131,072 tokens per request: 3.21x\n"
     ]
    },
    {
     "name": "stderr",
     "output_type": "stream",
     "text": [
      "Capturing CUDA graph shapes: 100%|██████████| 67/67 [00:02<00:00, 25.19it/s]\n"
     ]
    },
    {
     "name": "stdout",
     "output_type": "stream",
     "text": [
      "\u001b[1;36m(EngineCore_0 pid=1286114)\u001b[0;0m INFO 08-05 20:34:50 [gpu_model_runner.py:2560] Graph capturing finished in 3 secs, took 1.88 GiB\n",
      "\u001b[1;36m(EngineCore_0 pid=1286114)\u001b[0;0m INFO 08-05 20:34:50 [core.py:199] init engine (profile, create kv cache, warmup model) took 39.96 seconds\n",
      "INFO 08-05 20:34:50 [llm.py:290] Supported_tasks: ['generate']\n"
     ]
    }
   ],
   "source": [
    "sampling_params = SamplingParams(temperature=0.1, top_p=0.95)\n",
    "\n",
    "llm = LLM(\n",
    "    model=\"meta-llama/Llama-3.1-8B-Instruct\",\n",
    "    tensor_parallel_size=1,\n",
    "    speculative_config=dict(\n",
    "        method=\"ngram\", num_speculative_tokens=6, prompt_lookup_max=4\n",
    "    ),\n",
    ")\n"
   ]
  },
  {
   "cell_type": "code",
   "execution_count": 7,
   "id": "f480c166",
   "metadata": {},
   "outputs": [
    {
     "data": {
      "application/vnd.jupyter.widget-view+json": {
       "model_id": "2c6890e23f8345d1965378eb9845f804",
       "version_major": 2,
       "version_minor": 0
      },
      "text/plain": [
       "Adding requests:   0%|          | 0/1 [00:00<?, ?it/s]"
      ]
     },
     "metadata": {},
     "output_type": "display_data"
    },
    {
     "data": {
      "application/vnd.jupyter.widget-view+json": {
       "model_id": "b915b0534c4e424984bcf03c80e5020d",
       "version_major": 2,
       "version_minor": 0
      },
      "text/plain": [
       "Processed prompts:   0%|          | 0/1 [00:00<?, ?it/s, est. speed input: 0.00 toks/s, output: 0.00 toks/s]"
      ]
     },
     "metadata": {},
     "output_type": "display_data"
    },
    {
     "name": "stdout",
     "output_type": "stream",
     "text": [
      "The capital of France is Paris.\n"
     ]
    }
   ],
   "source": [
    "output = llm.chat(\n",
    "    messages=[\n",
    "        {\n",
    "            \"role\": \"user\",\n",
    "            \"content\": \"What is the capital of France?\",\n",
    "        },\n",
    "    ],\n",
    "    sampling_params=sampling_params,\n",
    ")\n",
    "print(output[0].outputs[0].text)\n"
   ]
  },
  {
   "cell_type": "code",
   "execution_count": 4,
   "id": "f365af68",
   "metadata": {},
   "outputs": [
    {
     "data": {
      "text/plain": [
       "[RequestOutput(request_id=0, prompt=None, prompt_token_ids=[128000, 128006, 9125, 128007, 271, 38766, 1303, 33025, 2696, 25, 6790, 220, 2366, 18, 198, 15724, 2696, 25, 220, 1627, 10263, 220, 2366, 19, 271, 128009, 128006, 882, 128007, 271, 3923, 374, 279, 6864, 315, 9822, 30, 128009, 128006, 78191, 128007, 271], encoder_prompt=None, encoder_prompt_token_ids=None, prompt_logprobs=None, outputs=[CompletionOutput(index=0, text='The capital of France is Paris.', token_ids=[791, 6864, 315, 9822, 374, 12366, 13, 128009], cumulative_logprob=None, logprobs=None, finish_reason=stop, stop_reason=None)], finished=True, metrics=None, lora_request=None, num_cached_tokens=0, multi_modal_placeholders={})]"
      ]
     },
     "execution_count": 4,
     "metadata": {},
     "output_type": "execute_result"
    }
   ],
   "source": [
    "output"
   ]
  },
  {
   "cell_type": "code",
   "execution_count": null,
   "id": "ed614fa0",
   "metadata": {},
   "outputs": [],
   "source": []
  }
 ],
 "metadata": {
  "kernelspec": {
   "display_name": "vllm_v1_specdec",
   "language": "python",
   "name": "python3"
  },
  "language_info": {
   "codemirror_mode": {
    "name": "ipython",
    "version": 3
   },
   "file_extension": ".py",
   "mimetype": "text/x-python",
   "name": "python",
   "nbconvert_exporter": "python",
   "pygments_lexer": "ipython3",
   "version": "3.12.3"
  }
 },
 "nbformat": 4,
 "nbformat_minor": 5
}
