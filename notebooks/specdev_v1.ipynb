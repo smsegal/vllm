{
 "cells": [
  {
   "cell_type": "code",
   "execution_count": null,
   "id": "0dcec0bc",
   "metadata": {},
   "outputs": [
    {
     "name": "stderr",
     "output_type": "stream",
     "text": [
      "/mlf7-shared/shanes/venvs/dockerdev/vllm/lib/python3.12/site-packages/tqdm/auto.py:21: TqdmWarning: IProgress not found. Please update jupyter and ipywidgets. See https://ipywidgets.readthedocs.io/en/stable/user_install.html\n",
      "  from .autonotebook import tqdm as notebook_tqdm\n"
     ]
    }
   ],
   "source": [
    "from transformers import AutoTokenizer"
   ]
  },
  {
   "cell_type": "code",
   "execution_count": 2,
   "id": "ed614fa0",
   "metadata": {},
   "outputs": [],
   "source": [
    "tokenizer = AutoTokenizer.from_pretrained(\"meta-llama/Llama-3.1-8B-Instruct\")\n"
   ]
  },
  {
   "cell_type": "code",
   "execution_count": 11,
   "id": "6c4c79fd",
   "metadata": {},
   "outputs": [
    {
     "data": {
      "text/plain": [
       "\"<|begin_of_text|><|start_header_id|>system<|end_header_id|>\\n\\nCutting Knowledge Date: December 2023\\nToday Date: 26 Jul 2024\\n\\n<|eot_id|><|start_header_id|>user<|end_header_id|>\\n\\nHow many B's are in the word 'blueberry'? Explain counting succinctly.<|eot_id|><|start_header_id|>assistant<|end_header_id|>\\n\\n Date: 26 Jul 2024\\n\\n<|eot_id|><|start_header_id|>user<|end_header_id|>\\n\\nExplain the difference between a CPU and a GPU in one concise sentence.<|eot_id|><|start_header_id|>assistant<|end_header_id|>\\n\\n Date: 26 Jul 2024\\n\\n<|eot_id|><|start_header_id|>user<|end_header_id|>\\n\\nCompute 12345 * 678. Show clear calculation steps then give the final answer.<|eot_id|><|start_header_id|>assistant<|end_header_id|>\\n\\n\""
      ]
     },
     "execution_count": 11,
     "metadata": {},
     "output_type": "execute_result"
    }
   ],
   "source": [
    "tokenizer.decode([128000, 128006,   9125, 128007,    271,  38766,   1303,  33025,   2696,\n",
    "            25,   6790,    220,   2366,     18,    198,  15724,   2696,     25,\n",
    "           220,   1627,  10263,    220,   2366,     19,    271, 128009, 128006,\n",
    "           882, 128007,    271,   4438,   1690,    426,    596,    527,    304,\n",
    "           279,   3492,    364,  12481,  15717,  71090,  83017,  26060,  99732,\n",
    "           398,     13, 128009, 128006,  78191, 128007,    271,   2696,     25,\n",
    "           220,   1627,  10263,    220,   2366,     19,    271, 128009, 128006,\n",
    "           882, 128007,    271,    849,  21435,    279,   6811,   1990,    264,\n",
    "         14266,    323,    264,  23501,    304,    832,  64694,  11914,     13,\n",
    "        128009, 128006,  78191, 128007,    271,   2696,     25,    220,   1627,\n",
    "         10263,    220,   2366,     19,    271, 128009, 128006,    882, 128007,\n",
    "           271,  47354,    220,   4513,   1774,    353,    220,  17458,     13,\n",
    "          7073,   2867,  22702,   7504,   1243,   3041,    279,   1620,   4320,\n",
    "            13, 128009, 128006,  78191, 128007,    271], skip_special_tokens=False)\n",
    "       "
   ]
  },
  {
   "cell_type": "code",
   "execution_count": 12,
   "id": "4e6ad8a0",
   "metadata": {},
   "outputs": [
    {
     "data": {
      "text/plain": [
       "[128006]"
      ]
     },
     "execution_count": 12,
     "metadata": {},
     "output_type": "execute_result"
    }
   ],
   "source": [
    "tokenizer.encode(\"<|start_header_id|>\", add_special_tokens=False) "
   ]
  },
  {
   "cell_type": "code",
   "execution_count": 7,
   "id": "779307cb",
   "metadata": {},
   "outputs": [
    {
     "data": {
      "text/plain": [
       "25"
      ]
     },
     "execution_count": 7,
     "metadata": {},
     "output_type": "execute_result"
    }
   ],
   "source": [
    "s = [128000, 128006,   9125, 128007,    271,  38766,   1303,  33025,   2696,\n",
    "            25,   6790,    220,   2366,     18,    198,  15724,   2696,     25,\n",
    "           220,   1627,  10263,    220,   2366,     19,    271, 128009, 128006,\n",
    "           882, 128007,    271,   4438,   1690,    426,    596,    527,    304,\n",
    "           279,   3492,    364,  12481,  15717,  71090,  83017,  26060,  99732,\n",
    "           398,     13, 128009, 128006,  78191, 128007,    271,   2696,     25,\n",
    "           220,   1627,  10263,    220,   2366,     19,    271, 128009, 128006,\n",
    "           882, 128007,    271,    849,  21435,    279,   6811,   1990,    264,\n",
    "         14266,    323,    264,  23501,    304,    832,  64694,  11914,     13,\n",
    "        128009, 128006,  78191, 128007,    271,   2696,     25,    220,   1627,\n",
    "         10263,    220,   2366,     19,    271, 128009, 128006,    882, 128007,\n",
    "           271,  47354,    220,   4513,   1774,    353,    220,  17458,     13,\n",
    "          7073,   2867,  22702,   7504,   1243,   3041,    279,   1620,   4320,\n",
    "            13, 128009, 128006,  78191, 128007,    271]\n",
    "s.index(128009)"
   ]
  },
  {
   "cell_type": "code",
   "execution_count": 13,
   "id": "bf48c0c0",
   "metadata": {},
   "outputs": [
    {
     "data": {
      "text/plain": [
       "\"<|begin_of_text|><|start_header_id|>system<|end_header_id|>\\n\\nCutting Knowledge Date: December 2023\\nToday Date: 26 Jul 2024\\n\\n<|eot_id|><|start_header_id|>user<|end_header_id|>\\n\\nHow many B's are in the word 'blueberry'? Explain counting succinctly.<|eot_id|><|start_header_id|>assistant<|end_header_id|>\""
      ]
     },
     "execution_count": 13,
     "metadata": {},
     "output_type": "execute_result"
    }
   ],
   "source": [
    "tokenizer.decode(s[:51])"
   ]
  },
  {
   "cell_type": "code",
   "execution_count": null,
   "id": "577b5ce2",
   "metadata": {},
   "outputs": [],
   "source": []
  }
 ],
 "metadata": {
  "kernelspec": {
   "display_name": "vllm_v1_specdec",
   "language": "python",
   "name": "python3"
  },
  "language_info": {
   "codemirror_mode": {
    "name": "ipython",
    "version": 3
   },
   "file_extension": ".py",
   "mimetype": "text/x-python",
   "name": "python",
   "nbconvert_exporter": "python",
   "pygments_lexer": "ipython3",
   "version": "3.12.11"
  }
 },
 "nbformat": 4,
 "nbformat_minor": 5
}
