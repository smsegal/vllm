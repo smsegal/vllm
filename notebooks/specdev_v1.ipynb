{
 "cells": [
  {
   "cell_type": "code",
   "execution_count": 1,
   "id": "0dcec0bc",
   "metadata": {},
   "outputs": [],
   "source": [
    "from transformers import AutoTokenizer"
   ]
  },
  {
   "cell_type": "code",
   "execution_count": 2,
   "id": "ed614fa0",
   "metadata": {},
   "outputs": [],
   "source": [
    "tokenizer = AutoTokenizer.from_pretrained(\"meta-llama/Llama-3.1-8B-Instruct\")\n"
   ]
  },
  {
   "cell_type": "code",
   "execution_count": 3,
   "id": "6c4c79fd",
   "metadata": {},
   "outputs": [
    {
     "data": {
      "text/plain": [
       "\"<|begin_of_text|><|start_header_id|>system<|end_header_id|>\\n\\nCutting Knowledge Date: December 2023\\nToday Date: 26 Jul 2024\\n\\n<|eot_id|><|start_header_id|>user<|end_header_id|>\\n\\nHow many B's are in the word 'blueberry'? Explain counting succinctly.<|eot_id|><|start_header_id|>assistant<|end_header_id|>\\n\\n Date: 26 Jul 2024\\n\\n<|eot_id|><|start_header_id|>user<|end_header_id|>\\n\\nExplain the difference between a CPU and a GPU in one concise sentence.<|eot_id|><|start_header_id|>assistant<|end_header_id|>\\n\\n Date: 26 Jul 2024\\n\\n<|eot_id|><|start_header_id|>user<|end_header_id|>\\n\\nCompute 12345 * 678. Show clear calculation steps then give the final answer.<|eot_id|><|start_header_id|>assistant<|end_header_id|>\\n\\n\""
      ]
     },
     "execution_count": 3,
     "metadata": {},
     "output_type": "execute_result"
    }
   ],
   "source": [
    "tokenizer.decode([128000, 128006,   9125, 128007,    271,  38766,   1303,  33025,   2696,\n",
    "            25,   6790,    220,   2366,     18,    198,  15724,   2696,     25,\n",
    "           220,   1627,  10263,    220,   2366,     19,    271, 128009, 128006,\n",
    "           882, 128007,    271,   4438,   1690,    426,    596,    527,    304,\n",
    "           279,   3492,    364,  12481,  15717,  71090,  83017,  26060,  99732,\n",
    "           398,     13, 128009, 128006,  78191, 128007,    271,   2696,     25,\n",
    "           220,   1627,  10263,    220,   2366,     19,    271, 128009, 128006,\n",
    "           882, 128007,    271,    849,  21435,    279,   6811,   1990,    264,\n",
    "         14266,    323,    264,  23501,    304,    832,  64694,  11914,     13,\n",
    "        128009, 128006,  78191, 128007,    271,   2696,     25,    220,   1627,\n",
    "         10263,    220,   2366,     19,    271, 128009, 128006,    882, 128007,\n",
    "           271,  47354,    220,   4513,   1774,    353,    220,  17458,     13,\n",
    "          7073,   2867,  22702,   7504,   1243,   3041,    279,   1620,   4320,\n",
    "            13, 128009, 128006,  78191, 128007,    271], skip_special_tokens=False)\n",
    "       "
   ]
  },
  {
   "cell_type": "code",
   "execution_count": 11,
   "id": "52ab808f",
   "metadata": {},
   "outputs": [
    {
     "name": "stdout",
     "output_type": "stream",
     "text": [
      ">= 246159 tokens seen before degradation\n",
      "model has 131072 context window\n",
      "tokens_seen / tokenizer.model_max_length=1.8780441284179688\n"
     ]
    }
   ],
   "source": [
    "tokenized_w_ct = tokenizer.apply_chat_template(    [\n",
    "        {\n",
    "            \"role\": \"user\",\n",
    "            \"content\": \"Compose an engaging travel blog post about a recent trip to Hawaii, highlighting cultural experiences and must-see attractions.\",\n",
    "        },\n",
    "        {\n",
    "            \"role\": \"assistant\",\n",
    "            \"content\": \"**Island of Aloha: Unveiling the Hidden Gems of Hawaii**\\n\\nAs I stepped off the plane in Honolulu, the warm tropical air enveloped me, and the sweet scent of plumeria filled my senses. I was finally in Hawaii, the ultimate paradise on earth. My recent trip to the Aloha State was a journey of discovery, a fusion of stunning natural beauty, rich cultural heritage, and unforgettable experiences.\\n\\n**Immersing in Hawaiian Culture**\\n\\nMy adventure began in Honolulu, where I delved into the city's vibrant cultural scene. I visited the Bishop Museum, the largest museum in Hawaii, which showcases the state's history, science, and art. The museum's exhibits took me on a journey through time, from the ancient Hawaiian civilization to the present day. I was fascinated by the intricate carvings, colorful textiles, and traditional instruments on display.\\n\\nNext, I headed to the historic Pearl Harbor and USS Arizona Memorial, a poignant tribute to the lives lost during the infamous attack in 1941. The memorial's somber atmosphere was a powerful reminder of the importance of peace and understanding.\\n\\n**Must-See Attractions**\\n\\nHawaii is home to some of the most breathtaking natural wonders in the world. I spent a day exploring the stunning Na Pali Coast on Kauai, where towering sea cliffs, hidden beaches, and lush green valleys left me awestruck. The scenic drive along the coast was a thrilling experience, with breathtaking views at every turn.\\n\\nOn the Big Island, I visited the Hawaii Volcanoes National Park, where I hiked through the Thurston Lava Tube and witnessed the awe-inspiring power of volcanic activity. The park's unique landscapes, including the Kilauea caldera and the Mauna Loa summit, were a testament to the island's geological history.\\n\\n**Beach Life and Water Activities**\\n\\nHawaii's beaches are legendary, and I was determined to experience them firsthand. I spent a day soaking up the sun on Waikiki Beach, where I watched surfers ride the waves and swam in the crystal-clear waters. I also took a snorkeling trip to Molokini Crater, a crescent-shaped volcanic crater and marine sanctuary, where I spotted colorful fish and coral.\\n\\n**Local Flavors and Cuisine**\\n\\nHawaiian cuisine is a fusion of traditional Hawaiian, Asian, and American flavors, and I was eager to try the local specialties. I indulged in poke bowls, laulau, and shave ice, and sampled the state's famous macadamia nuts and Kona coffee. I also visited a local farm, where I learned about sustainable farming practices and tasted fresh produce.\\n\\n**Conclusion**\\n\\nMy trip to Hawaii was a journey of discovery, a celebration of the island's rich culture, stunning natural beauty, and warm hospitality. From the historic sites to the breathtaking landscapes, and from the local cuisine to the beach life, I experienced the best of Hawaii. If you're planning a trip to the Aloha State, I highly recommend immersing yourself in the local culture, exploring the must-see attractions, and indulging in the local flavors. Mahalo (thank you) for joining me on this island adventure!\\n\\n**Practical Information**\\n\\n* Best time to visit: September to November or March to May\\n* Must-try dishes: Poke bowls, laulau, shave ice, and Kona coffee\\n* Must-see attractions: Na Pali Coast, Hawaii Volcanoes National Park, Pearl Harbor and USS Arizona Memorial\\n* Cultural experiences: Bishop Museum, traditional Hawaiian hula dance performances, and local farm tours\\n* Beach life: Waikiki Beach, Hanauma Bay, and Molokini Crater\\n\\n**Getting There**\\n\\n* Fly into Honolulu International Airport (HNL)\\n* Rent a car or take public transportation to explore the islands\\n* Book accommodations in advance, especially during peak season\\n\\n**Budget Breakdown**\\n\\n* Flights: $800 - $1,200\\n* Accommodations: $1,000 - $2,000\\n* Transportation: $200 - $500\\n* Food and activities: $500 - $1,000\\n\\n**Tips and Tricks**\\n\\n* Book tours and activities in advance to avoid sold-out situations\\n* Pack light, breathable clothing and comfortable shoes\\n* Respect local customs and traditions, especially when visiting sacred sites\\n* Don't forget sunscreen, sunglasses, and a hat to protect yourself from the sun\\n\\nI hope you've enjoyed this travel blog post about my recent trip to Hawaii. If you have any questions or comments, please feel free to share them below.\",\n",
    "        },\n",
    "        {\n",
    "            \"role\": \"user\",\n",
    "            \"content\": \"Rewrite your previous response. Start every sentence with the letter A.\",\n",
    "        },\n",
    "    ], add_special_tokens=True, tokenize=True)\n",
    "tokens_seen = len(tokenized_w_ct) * 243\n",
    "print(f\">= {tokens_seen} tokens seen before degradation\")\n",
    "print(f\"model has {tokenizer.model_max_length} context window\")\n",
    "print(f\"{tokens_seen / tokenizer.model_max_length=}\")"
   ]
  },
  {
   "cell_type": "code",
   "execution_count": 9,
   "id": "e2de5fa4",
   "metadata": {},
   "outputs": [
    {
     "data": {
      "text/html": [
       "<pre style=\"white-space:pre;overflow-x:auto;line-height:normal;font-family:Menlo,'DejaVu Sans Mono',consolas,'Courier New',monospace\"></pre>\n"
      ],
      "text/plain": []
     },
     "metadata": {},
     "output_type": "display_data"
    },
    {
     "data": {
      "text/plain": [
       "\u001b[1;36m131072\u001b[0m"
      ]
     },
     "execution_count": 9,
     "metadata": {},
     "output_type": "execute_result"
    }
   ],
   "source": [
    "tokenizer.model_max_length"
   ]
  },
  {
   "cell_type": "code",
   "execution_count": 4,
   "id": "4e6ad8a0",
   "metadata": {},
   "outputs": [
    {
     "data": {
      "text/plain": [
       "[128006]"
      ]
     },
     "execution_count": 4,
     "metadata": {},
     "output_type": "execute_result"
    }
   ],
   "source": [
    "tokenizer.encode(\"<|start_header_id|>\", add_special_tokens=False) "
   ]
  },
  {
   "cell_type": "code",
   "execution_count": 5,
   "id": "779307cb",
   "metadata": {},
   "outputs": [
    {
     "data": {
      "text/plain": [
       "25"
      ]
     },
     "execution_count": 5,
     "metadata": {},
     "output_type": "execute_result"
    }
   ],
   "source": [
    "s = [128000, 128006,   9125, 128007,    271,  38766,   1303,  33025,   2696,\n",
    "            25,   6790,    220,   2366,     18,    198,  15724,   2696,     25,\n",
    "           220,   1627,  10263,    220,   2366,     19,    271, 128009, 128006,\n",
    "           882, 128007,    271,   4438,   1690,    426,    596,    527,    304,\n",
    "           279,   3492,    364,  12481,  15717,  71090,  83017,  26060,  99732,\n",
    "           398,     13, 128009, 128006,  78191, 128007,    271,   2696,     25,\n",
    "           220,   1627,  10263,    220,   2366,     19,    271, 128009, 128006,\n",
    "           882, 128007,    271,    849,  21435,    279,   6811,   1990,    264,\n",
    "         14266,    323,    264,  23501,    304,    832,  64694,  11914,     13,\n",
    "        128009, 128006,  78191, 128007,    271,   2696,     25,    220,   1627,\n",
    "         10263,    220,   2366,     19,    271, 128009, 128006,    882, 128007,\n",
    "           271,  47354,    220,   4513,   1774,    353,    220,  17458,     13,\n",
    "          7073,   2867,  22702,   7504,   1243,   3041,    279,   1620,   4320,\n",
    "            13, 128009, 128006,  78191, 128007,    271]\n",
    "s.index(128009)"
   ]
  },
  {
   "cell_type": "code",
   "execution_count": 6,
   "id": "bf48c0c0",
   "metadata": {},
   "outputs": [
    {
     "data": {
      "text/plain": [
       "\"<|begin_of_text|><|start_header_id|>system<|end_header_id|>\\n\\nCutting Knowledge Date: December 2023\\nToday Date: 26 Jul 2024\\n\\n<|eot_id|><|start_header_id|>user<|end_header_id|>\\n\\nHow many B's are in the word 'blueberry'? Explain counting succinctly.<|eot_id|><|start_header_id|>assistant<|end_header_id|>\""
      ]
     },
     "execution_count": 6,
     "metadata": {},
     "output_type": "execute_result"
    }
   ],
   "source": [
    "tokenizer.decode(s[:51])"
   ]
  },
  {
   "cell_type": "code",
   "execution_count": 12,
   "id": "577b5ce2",
   "metadata": {},
   "outputs": [
    {
     "data": {
      "text/plain": [
       "[' is the, Theodds', '      ', ':     ']"
      ]
     },
     "execution_count": 12,
     "metadata": {},
     "output_type": "execute_result"
    }
   ],
   "source": [
    "tokenizer.batch_decode([[374, 279, 11, 578, 347, 5469], [220, 220, 220, 220, 220, 220], [25, 220, 220, 220, 220, 220]])"
   ]
  },
  {
   "cell_type": "code",
   "execution_count": null,
   "id": "2af4d006",
   "metadata": {},
   "outputs": [],
   "source": []
  }
 ],
 "metadata": {
  "kernelspec": {
   "display_name": "vllm_v1_specdec",
   "language": "python",
   "name": "python3"
  },
  "language_info": {
   "codemirror_mode": {
    "name": "ipython",
    "version": 3
   },
   "file_extension": ".py",
   "mimetype": "text/x-python",
   "name": "python",
   "nbconvert_exporter": "python",
   "pygments_lexer": "ipython3",
   "version": "3.12.11"
  }
 },
 "nbformat": 4,
 "nbformat_minor": 5
}
